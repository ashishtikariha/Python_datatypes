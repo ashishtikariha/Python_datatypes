{
 "cells": [
  {
   "cell_type": "markdown",
   "metadata": {},
   "source": [
    "# Slicing : Extracting a sub-string from a string.\n",
    "\n",
    "## str_name [start_index : end_index : step]\n",
    "\n",
    "## Note : Start index is inclusive whereas end index is exclusive."
   ]
  },
  {
   "cell_type": "code",
   "execution_count": 3,
   "metadata": {},
   "outputs": [
    {
     "data": {
      "text/plain": [
       "'Python'"
      ]
     },
     "execution_count": 3,
     "metadata": {},
     "output_type": "execute_result"
    }
   ],
   "source": [
    "str1= 'This is a Python Class'      # Positive indexing\n",
    "str1[10:16:1]                       # str1[16] is exclusive\n"
   ]
  },
  {
   "cell_type": "code",
   "execution_count": 4,
   "metadata": {},
   "outputs": [
    {
     "data": {
      "text/plain": [
       "'Python'"
      ]
     },
     "execution_count": 4,
     "metadata": {},
     "output_type": "execute_result"
    }
   ],
   "source": [
    "str1= 'This is a Python Class'      # negative indexing\n",
    "str1[-12:-6:1]                      # str[-6] is exclusive"
   ]
  },
  {
   "cell_type": "code",
   "execution_count": 6,
   "metadata": {},
   "outputs": [
    {
     "data": {
      "text/plain": [
       "'nohtyP'"
      ]
     },
     "execution_count": 6,
     "metadata": {},
     "output_type": "execute_result"
    }
   ],
   "source": [
    "str1= 'This is a Python Class'      # step positive => Left to right      Last index exclusive in both cases\n",
    "str1[-7:-13:-1]                     # step negative => Right to left"
   ]
  },
  {
   "cell_type": "code",
   "execution_count": 7,
   "metadata": {},
   "outputs": [
    {
     "data": {
      "text/plain": [
       "'Pto'"
      ]
     },
     "execution_count": 7,
     "metadata": {},
     "output_type": "execute_result"
    }
   ],
   "source": [
    "str1= 'This is a Python Class'\n",
    "str1[10:16:2]"
   ]
  },
  {
   "cell_type": "code",
   "execution_count": 10,
   "metadata": {},
   "outputs": [
    {
     "data": {
      "text/plain": [
       "'Class'"
      ]
     },
     "execution_count": 10,
     "metadata": {},
     "output_type": "execute_result"
    }
   ],
   "source": [
    "str1= 'This is a Python Class'      # Leaving End_index unfilled means it will take till the last char of string.    \n",
    "str1[-5::1]                         # using -ve indexing, you cant write any index for 's' as -1 is exclusive"
   ]
  },
  {
   "cell_type": "code",
   "execution_count": 1,
   "metadata": {},
   "outputs": [
    {
     "data": {
      "text/plain": [
       "'Python'"
      ]
     },
     "execution_count": 1,
     "metadata": {},
     "output_type": "execute_result"
    }
   ],
   "source": [
    "str1= 'This is a Python Class'      # By default step size is 1\n",
    "str1[10:16:]"
   ]
  },
  {
   "cell_type": "code",
   "execution_count": 5,
   "metadata": {},
   "outputs": [
    {
     "name": "stdout",
     "output_type": "stream",
     "text": [
      "This is a Python\n",
      "Python Class\n"
     ]
    }
   ],
   "source": [
    "str1= 'This is a Python Class'     # By default start index is 0 for positive indexing\n",
    "print(str1[:16:1])                        # By dafault end index is last char for positive indexing\n",
    "print(str1[10::1])"
   ]
  },
  {
   "cell_type": "code",
   "execution_count": 9,
   "metadata": {},
   "outputs": [
    {
     "name": "stdout",
     "output_type": "stream",
     "text": [
      "ssalC\n",
      "ssalC nohtyP a si sihT\n"
     ]
    }
   ],
   "source": [
    "str1= 'This is a Python Class'        # By default start index is -1 for negative indexing\n",
    "print(str1[:-6:-1])                   # By dafault end index is first char for negative indexing\n",
    "print(str1[-1::-1])"
   ]
  },
  {
   "cell_type": "markdown",
   "metadata": {},
   "source": [
    "## Contradicting slicing gives empty string\n",
    "str1 = 'PYTHON'    \n",
    "str1[0:3:-1] = empty string     \n",
    "##### 0--->3 saying L to R but -1 saying R to L, contradicting each other"
   ]
  },
  {
   "cell_type": "code",
   "execution_count": 11,
   "metadata": {},
   "outputs": [
    {
     "data": {
      "text/plain": [
       "''"
      ]
     },
     "execution_count": 11,
     "metadata": {},
     "output_type": "execute_result"
    }
   ],
   "source": [
    "str1='PYTHON'\n",
    "str1[0:3:-1]"
   ]
  },
  {
   "cell_type": "markdown",
   "metadata": {},
   "source": [
    "# Concatination : Adding two strings with + sign\n",
    "### Both the operands should be string type\n"
   ]
  },
  {
   "cell_type": "code",
   "execution_count": 16,
   "metadata": {},
   "outputs": [
    {
     "name": "stdout",
     "output_type": "stream",
     "text": [
      "Ashish Tikariha \n",
      "Ashish Tikariha MTech\n"
     ]
    }
   ],
   "source": [
    "s1='Ashish '\n",
    "s2='Tikariha '\n",
    "print(s1+s2)\n",
    "s3='MTech'\n",
    "print(s1+s2+s3)"
   ]
  },
  {
   "cell_type": "markdown",
   "metadata": {},
   "source": [
    "# Repetition : Repeating two strings multiple times using *\n",
    "### One operand should be string & other should be int"
   ]
  },
  {
   "cell_type": "code",
   "execution_count": 14,
   "metadata": {},
   "outputs": [
    {
     "data": {
      "text/plain": [
       "'Ashish Ashish Ashish Ashish Ashish '"
      ]
     },
     "execution_count": 14,
     "metadata": {},
     "output_type": "execute_result"
    }
   ],
   "source": [
    "str = 'Ashish '\n",
    "str*5"
   ]
  },
  {
   "cell_type": "markdown",
   "metadata": {},
   "source": [
    "# Membership operator : It tells whether a particular string is present in existing string or not.\n",
    "\n",
    "## in, not in"
   ]
  },
  {
   "cell_type": "code",
   "execution_count": 20,
   "metadata": {},
   "outputs": [
    {
     "name": "stdout",
     "output_type": "stream",
     "text": [
      "True\n",
      "False\n",
      "True\n",
      "False\n",
      "True\n"
     ]
    }
   ],
   "source": [
    "s1='Ashish'\n",
    "print('i' in  s1)\n",
    "print('z' in  s1)\n",
    "print('Ash' in  s1)\n",
    "print('i' not in  s1)\n",
    "print('zeb' not in  s1)"
   ]
  },
  {
   "cell_type": "markdown",
   "metadata": {},
   "source": [
    "# Strings are immutable : They cannot be modified\n",
    "\n",
    "### These are some small small things but asked in interviews"
   ]
  },
  {
   "cell_type": "code",
   "execution_count": 22,
   "metadata": {},
   "outputs": [
    {
     "ename": "TypeError",
     "evalue": "'str' object does not support item assignment",
     "output_type": "error",
     "traceback": [
      "\u001b[1;31m---------------------------------------------------------------------------\u001b[0m",
      "\u001b[1;31mTypeError\u001b[0m                                 Traceback (most recent call last)",
      "\u001b[1;32m<ipython-input-22-c9c1b0a69b33>\u001b[0m in \u001b[0;36m<module>\u001b[1;34m\u001b[0m\n\u001b[0;32m      1\u001b[0m \u001b[0mstr1\u001b[0m\u001b[1;33m=\u001b[0m\u001b[1;34m'ASHISH'\u001b[0m\u001b[1;33m\u001b[0m\u001b[1;33m\u001b[0m\u001b[0m\n\u001b[1;32m----> 2\u001b[1;33m \u001b[0mstr1\u001b[0m\u001b[1;33m[\u001b[0m\u001b[1;36m0\u001b[0m\u001b[1;33m]\u001b[0m\u001b[1;33m=\u001b[0m\u001b[1;34m'P'\u001b[0m        \u001b[1;31m# Any changes not allowed\u001b[0m\u001b[1;33m\u001b[0m\u001b[1;33m\u001b[0m\u001b[0m\n\u001b[0m",
      "\u001b[1;31mTypeError\u001b[0m: 'str' object does not support item assignment"
     ]
    }
   ],
   "source": [
    "str1='ASHISH'\n",
    "str1[0]='P'        # Any changes not allowed"
   ]
  },
  {
   "cell_type": "markdown",
   "metadata": {},
   "source": [
    "# String Methods : There are various string methods....    \n",
    "### You can check them from print(dir(str)) in case you forget"
   ]
  },
  {
   "cell_type": "code",
   "execution_count": 23,
   "metadata": {},
   "outputs": [
    {
     "name": "stdout",
     "output_type": "stream",
     "text": [
      "['__add__', '__class__', '__contains__', '__delattr__', '__dir__', '__doc__', '__eq__', '__format__', '__ge__', '__getattribute__', '__getitem__', '__getnewargs__', '__gt__', '__hash__', '__init__', '__init_subclass__', '__iter__', '__le__', '__len__', '__lt__', '__mod__', '__mul__', '__ne__', '__new__', '__reduce__', '__reduce_ex__', '__repr__', '__rmod__', '__rmul__', '__setattr__', '__sizeof__', '__str__', '__subclasshook__', 'capitalize', 'casefold', 'center', 'count', 'encode', 'endswith', 'expandtabs', 'find', 'format', 'format_map', 'index', 'isalnum', 'isalpha', 'isascii', 'isdecimal', 'isdigit', 'isidentifier', 'islower', 'isnumeric', 'isprintable', 'isspace', 'istitle', 'isupper', 'join', 'ljust', 'lower', 'lstrip', 'maketrans', 'partition', 'replace', 'rfind', 'rindex', 'rjust', 'rpartition', 'rsplit', 'rstrip', 'split', 'splitlines', 'startswith', 'strip', 'swapcase', 'title', 'translate', 'upper', 'zfill']\n"
     ]
    }
   ],
   "source": [
    "print(dir(str))"
   ]
  },
  {
   "cell_type": "code",
   "execution_count": 33,
   "metadata": {},
   "outputs": [
    {
     "name": "stdout",
     "output_type": "stream",
     "text": [
      "This is a python class\n",
      "this is a Python Class\n"
     ]
    }
   ],
   "source": [
    "str1= 'this is a Python Class'\n",
    "print(str1.capitalize())          # capitalize changes all capitalization errors\n",
    "print(str1)                       # Original str1 is unchanged, immutable"
   ]
  },
  {
   "cell_type": "markdown",
   "metadata": {},
   "source": [
    "### Press tab at the position of * , you will get all methods suitable for str1.     \n",
    "### str1.*"
   ]
  },
  {
   "cell_type": "code",
   "execution_count": 30,
   "metadata": {},
   "outputs": [
    {
     "ename": "AttributeError",
     "evalue": "'str' object has no attribute 'Press_tab'",
     "output_type": "error",
     "traceback": [
      "\u001b[1;31m---------------------------------------------------------------------------\u001b[0m",
      "\u001b[1;31mAttributeError\u001b[0m                            Traceback (most recent call last)",
      "\u001b[1;32m<ipython-input-30-b9d1227961e6>\u001b[0m in \u001b[0;36m<module>\u001b[1;34m\u001b[0m\n\u001b[0;32m      1\u001b[0m \u001b[0mstr1\u001b[0m\u001b[1;33m=\u001b[0m\u001b[1;34m'ejkhrkcjgtbkbjg'\u001b[0m\u001b[1;33m\u001b[0m\u001b[1;33m\u001b[0m\u001b[0m\n\u001b[1;32m----> 2\u001b[1;33m \u001b[0mstr1\u001b[0m\u001b[1;33m.\u001b[0m\u001b[0mPress_tab\u001b[0m\u001b[1;33m\u001b[0m\u001b[1;33m\u001b[0m\u001b[0m\n\u001b[0m",
      "\u001b[1;31mAttributeError\u001b[0m: 'str' object has no attribute 'Press_tab'"
     ]
    }
   ],
   "source": [
    "str1='ejkhrkcjgtbkbjg'\n",
    "str1.Press_tab"
   ]
  },
  {
   "cell_type": "code",
   "execution_count": 32,
   "metadata": {},
   "outputs": [
    {
     "data": {
      "text/plain": [
       "'Ejkhrkcjgtbkbjg'"
      ]
     },
     "execution_count": 32,
     "metadata": {},
     "output_type": "execute_result"
    }
   ],
   "source": [
    "str1.capitalize()\n"
   ]
  },
  {
   "cell_type": "code",
   "execution_count": 3,
   "metadata": {},
   "outputs": [
    {
     "data": {
      "text/plain": [
       "'this is a python class'"
      ]
     },
     "execution_count": 3,
     "metadata": {},
     "output_type": "execute_result"
    }
   ],
   "source": [
    "str1= 'THIS IS A PYTHON CLASS'\n",
    "str1.casefold()"
   ]
  },
  {
   "cell_type": "code",
   "execution_count": 4,
   "metadata": {},
   "outputs": [
    {
     "data": {
      "text/plain": [
       "'                      Ashish                      '"
      ]
     },
     "execution_count": 4,
     "metadata": {},
     "output_type": "execute_result"
    }
   ],
   "source": [
    "str1='Ashish'\n",
    "str1.center(50)"
   ]
  },
  {
   "cell_type": "code",
   "execution_count": 10,
   "metadata": {},
   "outputs": [
    {
     "data": {
      "text/plain": [
       "'this    is a Python     Class'"
      ]
     },
     "execution_count": 10,
     "metadata": {},
     "output_type": "execute_result"
    }
   ],
   "source": [
    "str1= 'this\\tis a Python\\tClass'\n",
    "str1.expandtabs()"
   ]
  },
  {
   "cell_type": "code",
   "execution_count": 15,
   "metadata": {},
   "outputs": [
    {
     "data": {
      "text/plain": [
       "'This is a python Class 4'"
      ]
     },
     "execution_count": 15,
     "metadata": {},
     "output_type": "execute_result"
    }
   ],
   "source": [
    "str1= 'This is a {} Class {}'\n",
    "str1.format('python',4)"
   ]
  },
  {
   "cell_type": "code",
   "execution_count": 18,
   "metadata": {},
   "outputs": [
    {
     "data": {
      "text/plain": [
       "True"
      ]
     },
     "execution_count": 18,
     "metadata": {},
     "output_type": "execute_result"
    }
   ],
   "source": [
    "str1= 'this is a Python Class'\n",
    "str1.isascii()"
   ]
  },
  {
   "cell_type": "code",
   "execution_count": 25,
   "metadata": {},
   "outputs": [
    {
     "data": {
      "text/plain": [
       "False"
      ]
     },
     "execution_count": 25,
     "metadata": {},
     "output_type": "execute_result"
    }
   ],
   "source": [
    "str1= 'this is a Python 3.0 Class'\n",
    "str1.isdigit()"
   ]
  },
  {
   "cell_type": "code",
   "execution_count": 30,
   "metadata": {},
   "outputs": [
    {
     "data": {
      "text/plain": [
       "True"
      ]
     },
     "execution_count": 30,
     "metadata": {},
     "output_type": "execute_result"
    }
   ],
   "source": [
    "str1='7987777139'\n",
    "str1.isdigit()"
   ]
  },
  {
   "cell_type": "code",
   "execution_count": 29,
   "metadata": {},
   "outputs": [
    {
     "data": {
      "text/plain": [
       "True"
      ]
     },
     "execution_count": 29,
     "metadata": {},
     "output_type": "execute_result"
    }
   ],
   "source": [
    "str1='7987777139'\n",
    "str1.isdecimal()"
   ]
  },
  {
   "cell_type": "code",
   "execution_count": 31,
   "metadata": {},
   "outputs": [
    {
     "data": {
      "text/plain": [
       "False"
      ]
     },
     "execution_count": 31,
     "metadata": {},
     "output_type": "execute_result"
    }
   ],
   "source": [
    "str1='2ash_5'\n",
    "str1.isidentifier()"
   ]
  },
  {
   "cell_type": "code",
   "execution_count": 34,
   "metadata": {},
   "outputs": [
    {
     "name": "stdout",
     "output_type": "stream",
     "text": [
      "βδ\n"
     ]
    },
    {
     "data": {
      "text/plain": [
       "True"
      ]
     },
     "execution_count": 34,
     "metadata": {},
     "output_type": "execute_result"
    }
   ],
   "source": [
    "str1='βδ'\n",
    "print(str1)\n",
    "str1.isprintable()"
   ]
  },
  {
   "cell_type": "code",
   "execution_count": 35,
   "metadata": {},
   "outputs": [
    {
     "name": "stdout",
     "output_type": "stream",
     "text": [
      "THIS IS A PYTHON CLASS\n",
      "this is a python class\n"
     ]
    }
   ],
   "source": [
    "str1= 'this is a Python Class'\n",
    "str2=str1.upper()\n",
    "print(str2)\n",
    "print(str2.lower())"
   ]
  },
  {
   "cell_type": "code",
   "execution_count": 37,
   "metadata": {},
   "outputs": [
    {
     "name": "stdout",
     "output_type": "stream",
     "text": [
      "ABCDEFabcdef\n"
     ]
    }
   ],
   "source": [
    "str1='abcdefABCDEF'\n",
    "print(str1.swapcase())      # upper to lower & lower to upper"
   ]
  },
  {
   "cell_type": "code",
   "execution_count": 39,
   "metadata": {},
   "outputs": [
    {
     "name": "stdout",
     "output_type": "stream",
     "text": [
      "My Love, Once Upon A Time Your Poet Launched A Great Epic In His Mind.\n",
      "Alas, I Was Not Careful, And It Struck Your Ringing Anklets And Came To Grief.\n",
      "It Broke Up Into Scraps Of Songs And Lay Scattered At Your...\n",
      "\n"
     ]
    }
   ],
   "source": [
    "str1=\"\"\"My love, once upon a time your poet launched a great epic in his mind.\n",
    "Alas, I was not careful, and it struck your ringing anklets and came to grief.\n",
    "It broke up into scraps of songs and lay scattered at your...\n",
    "\"\"\"\n",
    "\n",
    "print(str1.title())        # title converts first char of all words to caps"
   ]
  },
  {
   "cell_type": "code",
   "execution_count": 42,
   "metadata": {},
   "outputs": [
    {
     "name": "stdout",
     "output_type": "stream",
     "text": [
      "True\n",
      "True\n",
      "False\n",
      "False\n"
     ]
    }
   ],
   "source": [
    "# isalnum(): Gives true when string contains alphabet, numbers, alphanumeric values else false \n",
    "\n",
    "\n",
    "str1='Ashish5'\n",
    "str2='abc2123'\n",
    "str3='@123'\n",
    "str4='111.44'\n",
    "print(str1.isalnum())\n",
    "print(str2.isalnum())\n",
    "print(str3.isalnum())    # @ is not allowed\n",
    "print(str4.isalnum())    # . is not allowed"
   ]
  },
  {
   "cell_type": "code",
   "execution_count": 43,
   "metadata": {},
   "outputs": [
    {
     "name": "stdout",
     "output_type": "stream",
     "text": [
      "True\n",
      "True\n",
      "False\n",
      "False\n"
     ]
    }
   ],
   "source": [
    "str1='Ashish'                     # isalpha() \n",
    "str2='abcxyz'\n",
    "str3='@123'\n",
    "str4='111.44'\n",
    "print(str1.isalpha())\n",
    "print(str2.isalpha())\n",
    "print(str3.isalpha())    \n",
    "print(str4.isalpha())  "
   ]
  },
  {
   "cell_type": "code",
   "execution_count": 44,
   "metadata": {},
   "outputs": [
    {
     "name": "stdout",
     "output_type": "stream",
     "text": [
      "False\n",
      "True\n",
      "False\n",
      "False\n"
     ]
    }
   ],
   "source": [
    "str1='Ashish'                     # isnumeric()\n",
    "str2='123456'\n",
    "str3='@123'\n",
    "str4='111.44'\n",
    "print(str1.isnumeric()) \n",
    "print(str2.isnumeric()) \n",
    "print(str3.isnumeric()) \n",
    "print(str4.isnumeric()) \n"
   ]
  },
  {
   "cell_type": "code",
   "execution_count": 3,
   "metadata": {},
   "outputs": [
    {
     "name": "stdout",
     "output_type": "stream",
     "text": [
      "True\n",
      "False\n",
      "True\n"
     ]
    }
   ],
   "source": [
    "str1= 'This is a Python Class'       # startswith()\n",
    "print(str1.startswith('Th'))\n",
    "\n",
    "str2= 'This is a Python Class'\n",
    "print(str2.startswith('H'))\n",
    "\n",
    "str3= 'This is a Python Class'\n",
    "print(str3.startswith('is',2,15))       # takes string from [2] to(15)"
   ]
  },
  {
   "cell_type": "code",
   "execution_count": 8,
   "metadata": {},
   "outputs": [
    {
     "name": "stdout",
     "output_type": "stream",
     "text": [
      "True\n",
      "False\n",
      "True\n",
      "False\n",
      "True\n"
     ]
    }
   ],
   "source": [
    "str1= 'This is a Python Class'       # endswith()\n",
    "print(str1.endswith('s'))\n",
    "\n",
    "str2= 'This is a Python Class'\n",
    "print(str2.endswith('H'))\n",
    "\n",
    "str3= 'This is a Python Class'\n",
    "print(str3.endswith('on',10,16))        # takes string from [10] to (16)\n",
    "\n",
    "str4= 'This is a Python Class'\n",
    "print(str4.endswith('ass',-len(str4),-1))\n",
    "\n",
    "str5= 'This is a Python Class'\n",
    "print(str5.endswith('ass',-len(str4),))\n",
    "\n"
   ]
  },
  {
   "cell_type": "markdown",
   "metadata": {},
   "source": [
    "###### strip ---> It removes spaces from both the ends.    \n",
    "###### rstrip ---> removes spaces from right end.   \n",
    "###### lstrip ---> removes spaces from left end.   "
   ]
  },
  {
   "cell_type": "code",
   "execution_count": 12,
   "metadata": {},
   "outputs": [
    {
     "name": "stdout",
     "output_type": "stream",
     "text": [
      "15\n",
      "Hello\n",
      "5\n"
     ]
    }
   ],
   "source": [
    "a='     Hello     '\n",
    "print(len(a))\n",
    "b=a.strip()\n",
    "print(b)\n",
    "print(len(b))"
   ]
  },
  {
   "cell_type": "code",
   "execution_count": 13,
   "metadata": {},
   "outputs": [
    {
     "name": "stdout",
     "output_type": "stream",
     "text": [
      "12\n",
      "Hello\n",
      "5\n"
     ]
    }
   ],
   "source": [
    "a='Hello       '\n",
    "print(len(a))\n",
    "b=a.rstrip()\n",
    "print(b)\n",
    "print(len(b))"
   ]
  },
  {
   "cell_type": "code",
   "execution_count": 14,
   "metadata": {},
   "outputs": [
    {
     "name": "stdout",
     "output_type": "stream",
     "text": [
      "11\n",
      "Hello\n",
      "5\n"
     ]
    }
   ],
   "source": [
    "a='      Hello'\n",
    "print(len(a))\n",
    "b=a.lstrip()\n",
    "print(b)\n",
    "print(len(b))"
   ]
  },
  {
   "cell_type": "code",
   "execution_count": 19,
   "metadata": {},
   "outputs": [
    {
     "name": "stdout",
     "output_type": "stream",
     "text": [
      "3\n",
      "1\n",
      "4\n",
      "1\n"
     ]
    }
   ],
   "source": [
    "# Count ----> counts the number of appearances\n",
    "a='Ashish loves to spend time alone because he dont like shitty people'\n",
    "print(a.count('n'))\n",
    "print(a.count('As'))\n",
    "print(a.count('i'))\n",
    "print(a.count('i',5,25))    # Checking for the portion of string"
   ]
  },
  {
   "cell_type": "code",
   "execution_count": 26,
   "metadata": {},
   "outputs": [
    {
     "name": "stdout",
     "output_type": "stream",
     "text": [
      "12\n",
      "29\n",
      "------------------\n",
      "12\n",
      "29\n",
      "------------------\n",
      "-1\n"
     ]
    },
    {
     "ename": "ValueError",
     "evalue": "substring not found",
     "output_type": "error",
     "traceback": [
      "\u001b[1;31m---------------------------------------------------------------------------\u001b[0m",
      "\u001b[1;31mValueError\u001b[0m                                Traceback (most recent call last)",
      "\u001b[1;32m<ipython-input-26-47e81d455bc5>\u001b[0m in \u001b[0;36m<module>\u001b[1;34m\u001b[0m\n\u001b[0;32m      8\u001b[0m \u001b[0mprint\u001b[0m\u001b[1;33m(\u001b[0m\u001b[1;34m'------------------'\u001b[0m\u001b[1;33m)\u001b[0m\u001b[1;33m\u001b[0m\u001b[1;33m\u001b[0m\u001b[0m\n\u001b[0;32m      9\u001b[0m \u001b[0mprint\u001b[0m\u001b[1;33m(\u001b[0m\u001b[0mS\u001b[0m\u001b[1;33m.\u001b[0m\u001b[0mfind\u001b[0m\u001b[1;33m(\u001b[0m\u001b[1;34m'M'\u001b[0m\u001b[1;33m)\u001b[0m\u001b[1;33m)\u001b[0m       \u001b[1;31m# find, rfind gives -1 when char is not found in string\u001b[0m\u001b[1;33m\u001b[0m\u001b[1;33m\u001b[0m\u001b[0m\n\u001b[1;32m---> 10\u001b[1;33m \u001b[0mprint\u001b[0m\u001b[1;33m(\u001b[0m\u001b[0mS\u001b[0m\u001b[1;33m.\u001b[0m\u001b[0mindex\u001b[0m\u001b[1;33m(\u001b[0m\u001b[1;34m'M'\u001b[0m\u001b[1;33m)\u001b[0m\u001b[1;33m)\u001b[0m      \u001b[1;31m# index, rindex gives error\u001b[0m\u001b[1;33m\u001b[0m\u001b[1;33m\u001b[0m\u001b[0m\n\u001b[0m",
      "\u001b[1;31mValueError\u001b[0m: substring not found"
     ]
    }
   ],
   "source": [
    "# find , rfind , index ,rindex  ----> they are used to find character in the string   \n",
    "S='abcABCabcABCxyzXYZpqrsPQRSxyzxyz'\n",
    "print(S.find('x'))      # gives the index of first x from left\n",
    "print(S.rfind('x'))     # gives the index of first x from right\n",
    "print('------------------')\n",
    "print(S.index('x'))      # gives the index of first x from left\n",
    "print(S.rindex('x'))     # gives the index of first x from right\n",
    "print('------------------')\n",
    "print(S.find('M'))       # find, rfind gives -1 when char is not found in string\n",
    "print(S.index('M'))      # index, rindex gives error \n"
   ]
  },
  {
   "cell_type": "code",
   "execution_count": 31,
   "metadata": {},
   "outputs": [
    {
     "name": "stdout",
     "output_type": "stream",
     "text": [
      "Ashish loves himself\n",
      "------------------\n",
      "abcABCabcABCMyzXYZpqrsPQRSMyzxyz\n"
     ]
    }
   ],
   "source": [
    "# replace()\n",
    "a= 'Ashish loves Vanita'\n",
    "print(a.replace('Vanita','himself'))\n",
    "print('------------------')\n",
    "S='abcABCabcABCxyzXYZpqrsPQRSxyzxyz'\n",
    "print(S.replace('x','M',2))"
   ]
  },
  {
   "cell_type": "code",
   "execution_count": 34,
   "metadata": {},
   "outputs": [
    {
     "name": "stdout",
     "output_type": "stream",
     "text": [
      "['Ashish', 'loves', 'to', 'spend', 'time', 'alone', 'because', 'he', 'dont', 'like', 'shitty', 'people']\n",
      "['Ashish loves', 'to spend', 'time alone', 'because he dont', 'like shitty people']\n",
      "['Ashish', 'loves', '', '', '', 'to spend    time alone    because he dont    like shitty people']\n"
     ]
    }
   ],
   "source": [
    "# split() ---> It converts the string into list.   \n",
    "a='Ashish loves    to spend    time alone    because he dont    like shitty people'\n",
    "print(a.split())\n",
    "print(a.split(sep='    '))\n",
    "print(a.split(sep=' ',maxsplit=5))"
   ]
  },
  {
   "cell_type": "code",
   "execution_count": 41,
   "metadata": {},
   "outputs": [
    {
     "name": "stdout",
     "output_type": "stream",
     "text": [
      "['Ashish', 'loves', 'to', 'spend', 'time', 'alone', 'because', 'he', 'dont', 'like', 'shitty', 'people']\n",
      "Ashish loves to spend time alone because he dont like shitty people\n",
      "Ashish-->loves-->to-->spend-->time-->alone-->because-->he-->dont-->like-->shitty-->people\n"
     ]
    }
   ],
   "source": [
    "# join() ---> It concatinates the elements of list to form a string\n",
    "a='Ashish loves to spend time alone because he dont like shitty people'\n",
    "b=a.split()\n",
    "print(b)\n",
    "c=' '.join(b)\n",
    "print(c)\n",
    "d='-->'.join(b)\n",
    "print(d)"
   ]
  },
  {
   "cell_type": "code",
   "execution_count": 51,
   "metadata": {},
   "outputs": [
    {
     "name": "stdout",
     "output_type": "stream",
     "text": [
      "['__add__', '__class__', '__contains__', '__delattr__', '__dir__', '__doc__', '__eq__', '__format__', '__ge__', '__getattribute__', '__getitem__', '__getnewargs__', '__gt__', '__hash__', '__init__', '__init_subclass__', '__iter__', '__le__', '__len__', '__lt__', '__mod__', '__mul__', '__ne__', '__new__', '__reduce__', '__reduce_ex__', '__repr__', '__rmod__', '__rmul__', '__setattr__', '__sizeof__', '__str__', '__subclasshook__', 'capitalize', 'casefold', 'center', 'count', 'encode', 'endswith', 'expandtabs', 'find', 'format', 'format_map', 'index', 'isalnum', 'isalpha', 'isascii', 'isdecimal', 'isdigit', 'isidentifier', 'islower', 'isnumeric', 'isprintable', 'isspace', 'istitle', 'isupper', 'join', 'ljust', 'lower', 'lstrip', 'maketrans', 'partition', 'replace', 'rfind', 'rindex', 'rjust', 'rpartition', 'rsplit', 'rstrip', 'split', 'splitlines', 'startswith', 'strip', 'swapcase', 'title', 'translate', 'upper', 'zfill']\n"
     ]
    }
   ],
   "source": [
    "print(dir(str))\n",
    "\n",
    "# Note : All these are predefined functions for string only."
   ]
  },
  {
   "cell_type": "markdown",
   "metadata": {},
   "source": [
    "## Shift + tab ---> To check the agruments any predefined function take   \n",
    "## Tab ----> To check the suitable predefined functions for a particular variable  "
   ]
  },
  {
   "cell_type": "code",
   "execution_count": 36,
   "metadata": {},
   "outputs": [
    {
     "data": {
      "text/plain": [
       "'00000000000000Ashish'"
      ]
     },
     "execution_count": 36,
     "metadata": {},
     "output_type": "execute_result"
    }
   ],
   "source": [
    "str1='Ashish'\n",
    "str1.zfill(20)"
   ]
  },
  {
   "cell_type": "code",
   "execution_count": 46,
   "metadata": {},
   "outputs": [
    {
     "data": {
      "text/plain": [
       "['Obverse and reverse of a half eagle.',\n",
       " 'The half eagle is a United States coin that was produced for circulation from 1795 to 1929 and in commemorative and bullion coins since the 1980s.',\n",
       " 'Composed almost entirely of gold, it has a face value of five dollars.',\n",
       " 'It was the first gold coin to be minted by the United States, its production being authorized by the Coinage Act of 1792.',\n",
       " 'The design and composition of the half eagle changed many times over the years, but this version was designed by John Reich and produced from 1813 to 1834.',\n",
       " 'The obverse design depicts a round-capped portrait of Liberty facing to the left, and the reverse depicts a modified eagle.',\n",
       " 'This type differs from its predecessor by Liberty having a larger head and a reduced bustline.']"
      ]
     },
     "execution_count": 46,
     "metadata": {},
     "output_type": "execute_result"
    }
   ],
   "source": [
    "str1='''Obverse and reverse of a half eagle.\n",
    "The half eagle is a United States coin that was produced for circulation from 1795 to 1929 and in commemorative and bullion coins since the 1980s.\n",
    "Composed almost entirely of gold, it has a face value of five dollars.\n",
    "It was the first gold coin to be minted by the United States, its production being authorized by the Coinage Act of 1792.\n",
    "The design and composition of the half eagle changed many times over the years, but this version was designed by John Reich and produced from 1813 to 1834.\n",
    "The obverse design depicts a round-capped portrait of Liberty facing to the left, and the reverse depicts a modified eagle.\n",
    "This type differs from its predecessor by Liberty having a larger head and a reduced bustline.'''\n",
    "str1.splitlines()"
   ]
  },
  {
   "cell_type": "code",
   "execution_count": 51,
   "metadata": {},
   "outputs": [
    {
     "data": {
      "text/plain": [
       "('Ashish Kumar', ' ', 'Tikariha')"
      ]
     },
     "execution_count": 51,
     "metadata": {},
     "output_type": "execute_result"
    }
   ],
   "source": [
    "str1='Ashish Kumar Tikariha'\n",
    "str1.rpartition(' ')"
   ]
  },
  {
   "cell_type": "code",
   "execution_count": null,
   "metadata": {},
   "outputs": [],
   "source": []
  }
 ],
 "metadata": {
  "kernelspec": {
   "display_name": "Python 3",
   "language": "python",
   "name": "python3"
  },
  "language_info": {
   "codemirror_mode": {
    "name": "ipython",
    "version": 3
   },
   "file_extension": ".py",
   "mimetype": "text/x-python",
   "name": "python",
   "nbconvert_exporter": "python",
   "pygments_lexer": "ipython3",
   "version": "3.8.5"
  }
 },
 "nbformat": 4,
 "nbformat_minor": 4
}
