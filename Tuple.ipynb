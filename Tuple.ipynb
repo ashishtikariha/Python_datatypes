{
 "cells": [
  {
   "cell_type": "code",
   "execution_count": 1,
   "metadata": {},
   "outputs": [
    {
     "name": "stdout",
     "output_type": "stream",
     "text": [
      "[2, 5, 8, 11, 14, 17, 20, 23, 26, 29]\n"
     ]
    }
   ],
   "source": [
    "# range ----> List\n",
    "\n",
    "print(list(range(2,30,3)))"
   ]
  },
  {
   "cell_type": "code",
   "execution_count": 2,
   "metadata": {},
   "outputs": [
    {
     "name": "stdout",
     "output_type": "stream",
     "text": [
      "50\n",
      "<class 'int'>\n",
      "20+30\n",
      "<class 'str'>\n"
     ]
    }
   ],
   "source": [
    "# Syntax of eval() ------>  eval('<datatype>') -----> only <datatype> is seen by eval()\n",
    "print(eval('20+30'))\n",
    "print(type(eval('20+30')))\n",
    "print(eval('\"20+30\"'))\n",
    "print(type(eval(\"'20+30'\")))"
   ]
  },
  {
   "cell_type": "markdown",
   "metadata": {},
   "source": [
    "## Tuple datatype\n",
    "\n",
    "### Creation of tuple"
   ]
  },
  {
   "cell_type": "code",
   "execution_count": 6,
   "metadata": {},
   "outputs": [
    {
     "name": "stdout",
     "output_type": "stream",
     "text": [
      "('Apple', 'Banana', 'Pineapple', 'Lichi')\n"
     ]
    }
   ],
   "source": [
    "a=('Apple','Banana','Pineapple','Lichi')       # Values are known\n",
    "print(a)"
   ]
  },
  {
   "cell_type": "code",
   "execution_count": 8,
   "metadata": {},
   "outputs": [
    {
     "name": "stdout",
     "output_type": "stream",
     "text": [
      "Enter the tuple('Apple','Banana','Pineapple','Lichi')\n",
      "('Apple', 'Banana', 'Pineapple', 'Lichi')\n"
     ]
    }
   ],
   "source": [
    "a=eval(input('Enter the tuple'))                # user input\n",
    "print(a)"
   ]
  },
  {
   "cell_type": "code",
   "execution_count": 10,
   "metadata": {},
   "outputs": [
    {
     "name": "stdout",
     "output_type": "stream",
     "text": [
      "('A', 'S', 'h', 'i', 's', 'h')\n",
      "(1, 2, 3, 4, 5)\n",
      "(5, 6, 7, 8, 9)\n"
     ]
    }
   ],
   "source": [
    "a='AShish'                                      # Through typecasting\n",
    "b=[1,2,3,4,5]\n",
    "c={5,6,7,8,9}\n",
    "print(tuple(a))\n",
    "print(tuple(b))\n",
    "print(tuple(c))"
   ]
  },
  {
   "cell_type": "markdown",
   "metadata": {},
   "source": [
    "## tuples are immutable -----> unlike list"
   ]
  },
  {
   "cell_type": "code",
   "execution_count": 11,
   "metadata": {},
   "outputs": [
    {
     "ename": "TypeError",
     "evalue": "'tuple' object does not support item assignment",
     "output_type": "error",
     "traceback": [
      "\u001b[1;31m---------------------------------------------------------------------------\u001b[0m",
      "\u001b[1;31mTypeError\u001b[0m                                 Traceback (most recent call last)",
      "\u001b[1;32m<ipython-input-11-cf087fef82f3>\u001b[0m in \u001b[0;36m<module>\u001b[1;34m\u001b[0m\n\u001b[0;32m      1\u001b[0m \u001b[0ma\u001b[0m\u001b[1;33m=\u001b[0m\u001b[1;33m(\u001b[0m\u001b[1;36m1\u001b[0m\u001b[1;33m,\u001b[0m\u001b[1;36m3\u001b[0m\u001b[1;33m,\u001b[0m\u001b[1;36m4\u001b[0m\u001b[1;33m,\u001b[0m\u001b[1;36m2\u001b[0m\u001b[1;33m,\u001b[0m\u001b[1;36m7\u001b[0m\u001b[1;33m,\u001b[0m\u001b[1;36m5\u001b[0m\u001b[1;33m,\u001b[0m\u001b[1;36m8\u001b[0m\u001b[1;33m,\u001b[0m\u001b[1;36m9\u001b[0m\u001b[1;33m,\u001b[0m\u001b[1;36m0\u001b[0m\u001b[1;33m)\u001b[0m\u001b[1;33m\u001b[0m\u001b[1;33m\u001b[0m\u001b[0m\n\u001b[1;32m----> 2\u001b[1;33m \u001b[0ma\u001b[0m\u001b[1;33m[\u001b[0m\u001b[1;36m0\u001b[0m\u001b[1;33m]\u001b[0m\u001b[1;33m=\u001b[0m\u001b[1;36m100\u001b[0m\u001b[1;33m\u001b[0m\u001b[1;33m\u001b[0m\u001b[0m\n\u001b[0m",
      "\u001b[1;31mTypeError\u001b[0m: 'tuple' object does not support item assignment"
     ]
    }
   ],
   "source": [
    "a=(1,3,4,2,7,5,8,9,0)\n",
    "a[0]=100"
   ]
  },
  {
   "cell_type": "markdown",
   "metadata": {},
   "source": [
    "### indexing, slicing, concatination, repitition, identity, membership operators works similar to lists "
   ]
  },
  {
   "cell_type": "markdown",
   "metadata": {},
   "source": [
    "# Tuple methods"
   ]
  },
  {
   "cell_type": "code",
   "execution_count": 12,
   "metadata": {},
   "outputs": [
    {
     "name": "stdout",
     "output_type": "stream",
     "text": [
      "['__add__', '__class__', '__contains__', '__delattr__', '__dir__', '__doc__', '__eq__', '__format__', '__ge__', '__getattribute__', '__getitem__', '__getnewargs__', '__gt__', '__hash__', '__init__', '__init_subclass__', '__iter__', '__le__', '__len__', '__lt__', '__mul__', '__ne__', '__new__', '__reduce__', '__reduce_ex__', '__repr__', '__rmul__', '__setattr__', '__sizeof__', '__str__', '__subclasshook__', 'count', 'index']\n"
     ]
    }
   ],
   "source": [
    "print(dir(tuple))"
   ]
  },
  {
   "cell_type": "code",
   "execution_count": 1,
   "metadata": {},
   "outputs": [
    {
     "name": "stdout",
     "output_type": "stream",
     "text": [
      "2\n",
      "6\n"
     ]
    }
   ],
   "source": [
    "a=(3,4,5,2,6,7,5,5)      # index\n",
    "print(a.index(5))\n",
    "print(a.index(5,4))"
   ]
  },
  {
   "cell_type": "code",
   "execution_count": 2,
   "metadata": {},
   "outputs": [
    {
     "data": {
      "text/plain": [
       "3"
      ]
     },
     "execution_count": 2,
     "metadata": {},
     "output_type": "execute_result"
    }
   ],
   "source": [
    "a=(3,4,5,2,6,7,5,5)      # count\n",
    "a.count(5)"
   ]
  },
  {
   "cell_type": "markdown",
   "metadata": {},
   "source": [
    "# Tuple packing & unpacking"
   ]
  },
  {
   "cell_type": "code",
   "execution_count": 17,
   "metadata": {},
   "outputs": [
    {
     "name": "stdout",
     "output_type": "stream",
     "text": [
      "(4, 7, 1, 7, 'Ashsih', 'Cricket')\n"
     ]
    }
   ],
   "source": [
    "a=4,7,1,7,'Ashsih','Cricket'             # Tuple packing\n",
    "print(a)"
   ]
  },
  {
   "cell_type": "code",
   "execution_count": 20,
   "metadata": {},
   "outputs": [
    {
     "name": "stdout",
     "output_type": "stream",
     "text": [
      "1\n",
      "2\n",
      "3\n",
      "4\n",
      "5\n"
     ]
    }
   ],
   "source": [
    "a,b,c,d,e = (1,2,3,4,5)                  # Tuple unpacking\n",
    "print(a)\n",
    "print(b)\n",
    "print(c)\n",
    "print(d)\n",
    "print(e)"
   ]
  },
  {
   "cell_type": "code",
   "execution_count": 4,
   "metadata": {},
   "outputs": [
    {
     "name": "stdout",
     "output_type": "stream",
     "text": [
      "10 <class 'int'>\n",
      "20 <class 'int'>\n",
      "(10,) <class 'tuple'>\n",
      "(20,) <class 'tuple'>\n"
     ]
    }
   ],
   "source": [
    "a=(10)\n",
    "b=20\n",
    "print(a,type(a))\n",
    "print(b,type(b))\n",
    "\n",
    "c=(10,)                 # For single element tuple, we need comma otherwise it will be treated as intiger\n",
    "d=20,\n",
    "print(c,type(c))\n",
    "print(d,type(d))\n"
   ]
  },
  {
   "cell_type": "markdown",
   "metadata": {},
   "source": [
    "# Dictionaries datatype :  Very important datatype"
   ]
  },
  {
   "cell_type": "code",
   "execution_count": 31,
   "metadata": {},
   "outputs": [
    {
     "name": "stdout",
     "output_type": "stream",
     "text": [
      "Ashish\n",
      "24\n",
      "12400\n"
     ]
    }
   ],
   "source": [
    "a={'name':'Ashish','Age':24,'Salary':12400}\n",
    "print(a['name'])\n",
    "print(a['Age'])\n",
    "print(a['Salary'])"
   ]
  },
  {
   "cell_type": "markdown",
   "metadata": {},
   "source": [
    "### It is a collection of key-value pair   \n",
    "### key cannot be duplicated whereas values can    \n",
    "### Keys are immutable, values are mutable\n",
    "### Dictionary is not a sequence datatype...indexing,slicing,concatination etc dont work here\n"
   ]
  },
  {
   "cell_type": "code",
   "execution_count": 33,
   "metadata": {},
   "outputs": [
    {
     "name": "stdout",
     "output_type": "stream",
     "text": [
      "{'name': 'Rohit', 'Age': 24, 'Salary': 12400}\n"
     ]
    }
   ],
   "source": [
    "a={'name':'Ashish','Age':24,'Salary':12400,'name':'Rohit'}       # Takes the latest value for any key\n",
    "print(a)"
   ]
  },
  {
   "cell_type": "code",
   "execution_count": 3,
   "metadata": {},
   "outputs": [
    {
     "name": "stdout",
     "output_type": "stream",
     "text": [
      "True\n"
     ]
    }
   ],
   "source": [
    "a={'name':'Ashish','Age':24,'Salary':12400,'name':'Rohit'}\n",
    "print('name' in a)"
   ]
  },
  {
   "cell_type": "markdown",
   "metadata": {},
   "source": [
    "# Creation of dictionaries"
   ]
  },
  {
   "cell_type": "code",
   "execution_count": 35,
   "metadata": {},
   "outputs": [
    {
     "name": "stdout",
     "output_type": "stream",
     "text": [
      "{'name': 'Rohit', 'Age': 24, 'Salary': 12400}\n"
     ]
    }
   ],
   "source": [
    "a={'name':'Ashish','Age':24,'Salary':12400,'name':'Rohit'}       # Way 1\n",
    "print(a)"
   ]
  },
  {
   "cell_type": "code",
   "execution_count": 37,
   "metadata": {},
   "outputs": [
    {
     "name": "stdout",
     "output_type": "stream",
     "text": [
      "Enter the dictionary{'a':100,'b':200}\n",
      "{'a': 100, 'b': 200}\n"
     ]
    }
   ],
   "source": [
    "a=eval(input('Enter the dictionary'))                            # way 2 user input\n",
    "print(a)"
   ]
  },
  {
   "cell_type": "code",
   "execution_count": 42,
   "metadata": {},
   "outputs": [
    {
     "name": "stdout",
     "output_type": "stream",
     "text": [
      "{'a': 2, 'b': 3, 'c': 6}\n"
     ]
    }
   ],
   "source": [
    "#Way 3 : To create a dictionary from list/tuple/sets.... Their elements must be in pair form...Taken as key value pair\n",
    "\n",
    "a=dict([('a',2),('b',3),('c',6)])\n",
    "print(a)"
   ]
  },
  {
   "cell_type": "code",
   "execution_count": 45,
   "metadata": {},
   "outputs": [
    {
     "name": "stdout",
     "output_type": "stream",
     "text": [
      "{'a': 2, 'b': 3, 'c': 6}\n"
     ]
    }
   ],
   "source": [
    "a=dict((['a',2],['b',3],['c',6]))\n",
    "print(a)"
   ]
  },
  {
   "cell_type": "markdown",
   "metadata": {},
   "source": [
    "## Accesing the values through keys"
   ]
  },
  {
   "cell_type": "code",
   "execution_count": 62,
   "metadata": {},
   "outputs": [
    {
     "name": "stdout",
     "output_type": "stream",
     "text": [
      "5\n",
      "[1, 2, 3]\n"
     ]
    }
   ],
   "source": [
    "a={'x':[1,2,3],'y':[2,4,6],'z':[7,8,9],'w':{'m':5,'n':10}}\n",
    "print(a['w']['m'])\n",
    "print(a['x'])\n"
   ]
  },
  {
   "cell_type": "markdown",
   "metadata": {},
   "source": [
    "# Updating "
   ]
  },
  {
   "cell_type": "code",
   "execution_count": 64,
   "metadata": {},
   "outputs": [
    {
     "name": "stdout",
     "output_type": "stream",
     "text": [
      "{'name': 'Ashish', 'sex': 'M', 'age': 24}\n"
     ]
    }
   ],
   "source": [
    "# When key is not there\n",
    "a={'name':'Ashish','sex':'M'}\n",
    "a['age']=24                             # Adds element at last\n",
    "print(a)"
   ]
  },
  {
   "cell_type": "code",
   "execution_count": 67,
   "metadata": {},
   "outputs": [
    {
     "name": "stdout",
     "output_type": "stream",
     "text": [
      "{'name': 'Ashish', 'sex': 'M', 'age': 40}\n"
     ]
    }
   ],
   "source": [
    "# When key is present\n",
    "a={'name': 'Ashish', 'sex': 'M', 'age': 24}\n",
    "a['age']=40                             # Updates the value\n",
    "print(a)                                 "
   ]
  },
  {
   "cell_type": "markdown",
   "metadata": {},
   "source": [
    "# Dict methods"
   ]
  },
  {
   "cell_type": "code",
   "execution_count": 68,
   "metadata": {},
   "outputs": [
    {
     "name": "stdout",
     "output_type": "stream",
     "text": [
      "['__class__', '__contains__', '__delattr__', '__delitem__', '__dir__', '__doc__', '__eq__', '__format__', '__ge__', '__getattribute__', '__getitem__', '__gt__', '__hash__', '__init__', '__init_subclass__', '__iter__', '__le__', '__len__', '__lt__', '__ne__', '__new__', '__reduce__', '__reduce_ex__', '__repr__', '__reversed__', '__setattr__', '__setitem__', '__sizeof__', '__str__', '__subclasshook__', 'clear', 'copy', 'fromkeys', 'get', 'items', 'keys', 'pop', 'popitem', 'setdefault', 'update', 'values']\n"
     ]
    }
   ],
   "source": [
    "print(dir(dict))"
   ]
  },
  {
   "cell_type": "code",
   "execution_count": 5,
   "metadata": {},
   "outputs": [
    {
     "name": "stdout",
     "output_type": "stream",
     "text": [
      "Ashish\n",
      "None\n",
      "Key is absent\n"
     ]
    }
   ],
   "source": [
    "a={'name': 'Ashish', 'sex': 'M', 'age': 24}            # get\n",
    "print(a.get('name'))\n",
    "print(a.get('salary'))                              # dafault is None\n",
    "print(a.get('salary','Key is absent'))              # Updated dafault"
   ]
  },
  {
   "cell_type": "code",
   "execution_count": 77,
   "metadata": {},
   "outputs": [
    {
     "name": "stdout",
     "output_type": "stream",
     "text": [
      "12400\n",
      "Ashish\n",
      "{'name': 'Ashish', 'sex': 'M', 'age': 24, 'Salary': 12400}\n"
     ]
    }
   ],
   "source": [
    "a={'name': 'Ashish', 'sex': 'M', 'age': 24}    # setdefault\n",
    "print(a.setdefault('Salary',12400))            # Insert key with a value of default if key is not in the dictionary.\n",
    "print(a.setdefault('name',12400))              # No change for already existing keys\n",
    "print(a)"
   ]
  },
  {
   "cell_type": "code",
   "execution_count": 83,
   "metadata": {},
   "outputs": [
    {
     "name": "stdout",
     "output_type": "stream",
     "text": [
      "{'name': 'Ashish', 'sex': 'M', 'age': 24, 'Salary': 12400}\n",
      "{'name': 'Ashish', 'sex': 'M', 'age': 24, 'Salary': 40400}\n"
     ]
    }
   ],
   "source": [
    "a={'name': 'Ashish', 'sex': 'M', 'age': 24}       # update\n",
    "a.update({'Salary':12400})\n",
    "print(a)\n",
    "a.update({'Salary':40400})\n",
    "print(a)"
   ]
  },
  {
   "cell_type": "code",
   "execution_count": null,
   "metadata": {},
   "outputs": [],
   "source": []
  }
 ],
 "metadata": {
  "kernelspec": {
   "display_name": "Python 3",
   "language": "python",
   "name": "python3"
  },
  "language_info": {
   "codemirror_mode": {
    "name": "ipython",
    "version": 3
   },
   "file_extension": ".py",
   "mimetype": "text/x-python",
   "name": "python",
   "nbconvert_exporter": "python",
   "pygments_lexer": "ipython3",
   "version": "3.8.5"
  }
 },
 "nbformat": 4,
 "nbformat_minor": 4
}
