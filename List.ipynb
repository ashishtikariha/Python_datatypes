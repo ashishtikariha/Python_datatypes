{
 "cells": [
  {
   "cell_type": "markdown",
   "metadata": {},
   "source": [
    "### extend : it extends the list original by taking elements from other list/tuple/set/string (sequence datatypes)\n",
    "### Here original list is modified\n"
   ]
  },
  {
   "cell_type": "code",
   "execution_count": 7,
   "metadata": {},
   "outputs": [
    {
     "name": "stdout",
     "output_type": "stream",
     "text": [
      "[1, 2, 3, 4, 5, 6, 7, 8, 9]\n"
     ]
    }
   ],
   "source": [
    "a=[1,2,3,4,5,6]\n",
    "b=(7,8,9)\n",
    "a.extend(b)\n",
    "print(a)\n",
    "    "
   ]
  },
  {
   "cell_type": "code",
   "execution_count": 8,
   "metadata": {},
   "outputs": [
    {
     "name": "stdout",
     "output_type": "stream",
     "text": [
      "[1, 2, 3, 4, 5, 6, 8, 9, 7]\n"
     ]
    }
   ],
   "source": [
    "a=[1,2,3,4,5,6]\n",
    "b={7,8,9}\n",
    "a.extend(b)\n",
    "print(a)\n",
    "    "
   ]
  },
  {
   "cell_type": "code",
   "execution_count": 9,
   "metadata": {},
   "outputs": [
    {
     "name": "stdout",
     "output_type": "stream",
     "text": [
      "[1, 2, 3, 4, 5, 6, 7, 8, 9]\n"
     ]
    }
   ],
   "source": [
    "a=[1,2,3,4,5,6]\n",
    "b=[7,8,9]\n",
    "a.extend(b)\n",
    "print(a)\n",
    "    "
   ]
  },
  {
   "cell_type": "code",
   "execution_count": 11,
   "metadata": {},
   "outputs": [
    {
     "name": "stdout",
     "output_type": "stream",
     "text": [
      "[1, 2, 3, 4, 5, 6, 'A', 's', 'h']\n"
     ]
    }
   ],
   "source": [
    "a=[1,2,3,4,5,6]\n",
    "b='Ash'\n",
    "a.extend(b)\n",
    "print(a)\n",
    "    "
   ]
  },
  {
   "cell_type": "markdown",
   "metadata": {},
   "source": [
    "## The job of extend can also be done through concatination but it creates new object instead of modifying original object"
   ]
  },
  {
   "cell_type": "code",
   "execution_count": 14,
   "metadata": {},
   "outputs": [
    {
     "data": {
      "text/plain": [
       "(1, 2, 3, 4, 5, 6, 7, 8, 9)"
      ]
     },
     "execution_count": 14,
     "metadata": {},
     "output_type": "execute_result"
    }
   ],
   "source": [
    "a=(1,2,3,4,5,6)\n",
    "b=(7,8,9)\n",
    "a+b\n",
    "    "
   ]
  },
  {
   "cell_type": "code",
   "execution_count": 15,
   "metadata": {},
   "outputs": [
    {
     "data": {
      "text/plain": [
       "[1, 2, 3, 4, 5, 6, 7, 8, 9]"
      ]
     },
     "execution_count": 15,
     "metadata": {},
     "output_type": "execute_result"
    }
   ],
   "source": [
    "a=[1,2,3,4,5,6]\n",
    "b=[7,8,9]\n",
    "a+b"
   ]
  },
  {
   "cell_type": "markdown",
   "metadata": {},
   "source": [
    "## insert() : To insert any value to a particular index"
   ]
  },
  {
   "cell_type": "code",
   "execution_count": 18,
   "metadata": {},
   "outputs": [
    {
     "name": "stdout",
     "output_type": "stream",
     "text": [
      "None\n",
      "[1, 2, 'Ashish', 3, 4, 5]\n"
     ]
    }
   ],
   "source": [
    "a=[1,2,3,4,5]\n",
    "print(a.insert(2,'Ashish'))\n",
    "print(a)"
   ]
  },
  {
   "cell_type": "markdown",
   "metadata": {},
   "source": [
    "## Removing from a list\n",
    "\n",
    "1. pop : removes the element by index, by default it removes the last index, returns the deleted value\n",
    "2. remove : removes the element by value instead of index, for multiple occurances it removes the first one"
   ]
  },
  {
   "cell_type": "code",
   "execution_count": 19,
   "metadata": {},
   "outputs": [
    {
     "name": "stdout",
     "output_type": "stream",
     "text": [
      "5\n",
      "[1, 2, 3, 4]\n"
     ]
    }
   ],
   "source": [
    "a=[1,2,3,4,5]\n",
    "print(a.pop())\n",
    "print(a)"
   ]
  },
  {
   "cell_type": "code",
   "execution_count": 20,
   "metadata": {},
   "outputs": [
    {
     "name": "stdout",
     "output_type": "stream",
     "text": [
      "1\n",
      "[2, 3, 4, 5]\n"
     ]
    }
   ],
   "source": [
    "a=[1,2,3,4,5]\n",
    "print(a.pop(0))\n",
    "print(a)"
   ]
  },
  {
   "cell_type": "code",
   "execution_count": 21,
   "metadata": {},
   "outputs": [
    {
     "name": "stdout",
     "output_type": "stream",
     "text": [
      "None\n",
      "[1, 2, 4, 5]\n"
     ]
    }
   ],
   "source": [
    "a=[1,2,300,4,5]\n",
    "print(a.remove(300))\n",
    "print(a)"
   ]
  },
  {
   "cell_type": "code",
   "execution_count": 23,
   "metadata": {},
   "outputs": [
    {
     "name": "stdout",
     "output_type": "stream",
     "text": [
      "None\n",
      "[1, 2, 4, 300, 5, 300, 300]\n"
     ]
    }
   ],
   "source": [
    "a=[1,2,300,4,300,5,300,300]\n",
    "print(a.remove(300))\n",
    "print(a)"
   ]
  },
  {
   "cell_type": "markdown",
   "metadata": {},
   "source": [
    "### reverse"
   ]
  },
  {
   "cell_type": "code",
   "execution_count": 1,
   "metadata": {},
   "outputs": [
    {
     "name": "stdout",
     "output_type": "stream",
     "text": [
      "None\n",
      "[5, 4, 3, 2, 1]\n"
     ]
    }
   ],
   "source": [
    "a=[1,2,3,4,5]\n",
    "print(a.reverse())\n",
    "print(a)"
   ]
  },
  {
   "cell_type": "markdown",
   "metadata": {},
   "source": [
    "### sort"
   ]
  },
  {
   "cell_type": "code",
   "execution_count": 25,
   "metadata": {},
   "outputs": [
    {
     "name": "stdout",
     "output_type": "stream",
     "text": [
      "None\n",
      "[0, 1, 1, 2, 4, 7, 9]\n"
     ]
    }
   ],
   "source": [
    "a=[4,1,7,2,0,9,1]     # sorting in ascending order\n",
    "print(a.sort())\n",
    "print(a)"
   ]
  },
  {
   "cell_type": "code",
   "execution_count": 26,
   "metadata": {},
   "outputs": [
    {
     "name": "stdout",
     "output_type": "stream",
     "text": [
      "None\n",
      "[9, 7, 4, 2, 1, 1, 0]\n"
     ]
    }
   ],
   "source": [
    "a=[4,1,7,2,0,9,1]     # sorting in descending order\n",
    "print(a.sort(reverse=True))\n",
    "print(a)"
   ]
  },
  {
   "cell_type": "markdown",
   "metadata": {},
   "source": [
    "### clear()\n"
   ]
  },
  {
   "cell_type": "code",
   "execution_count": 27,
   "metadata": {},
   "outputs": [
    {
     "name": "stdout",
     "output_type": "stream",
     "text": [
      "None\n",
      "[]\n"
     ]
    }
   ],
   "source": [
    "a=[4,1,7,2,0,9,1]    \n",
    "print(a.clear())\n",
    "print(a)"
   ]
  },
  {
   "cell_type": "markdown",
   "metadata": {},
   "source": [
    "### count()"
   ]
  },
  {
   "cell_type": "code",
   "execution_count": 29,
   "metadata": {},
   "outputs": [
    {
     "name": "stdout",
     "output_type": "stream",
     "text": [
      "4\n"
     ]
    }
   ],
   "source": [
    "a=[4,1,7,2,0,9,1,1,1]   \n",
    "print(a.count(1))"
   ]
  },
  {
   "cell_type": "markdown",
   "metadata": {},
   "source": [
    "## Aliasing()"
   ]
  },
  {
   "cell_type": "code",
   "execution_count": 30,
   "metadata": {},
   "outputs": [
    {
     "name": "stdout",
     "output_type": "stream",
     "text": [
      "2617854590272\n",
      "2617854590272\n",
      "[1, 2, 300, 4, 5]\n",
      "[1, 2, 300, 4, 5]\n"
     ]
    }
   ],
   "source": [
    "lst1=[1,2,3,4,5]\n",
    "lst2=lst1\n",
    "print(id(lst1))\n",
    "print(id(lst2))\n",
    "lst2[2]=300\n",
    "print(lst1)\n",
    "print(lst1)"
   ]
  },
  {
   "cell_type": "markdown",
   "metadata": {},
   "source": [
    "## shallow copy"
   ]
  },
  {
   "cell_type": "code",
   "execution_count": 33,
   "metadata": {},
   "outputs": [
    {
     "name": "stdout",
     "output_type": "stream",
     "text": [
      "2617854529792\n",
      "2617853139968\n",
      "[1, 2, 3, 4, 5]\n",
      "[1, 2, 300, 4, 5]\n"
     ]
    }
   ],
   "source": [
    "lst1=[1,2,3,4,5]\n",
    "lst2=lst1.copy()\n",
    "print(id(lst1))\n",
    "print(id(lst2))\n",
    "lst2[2]=300\n",
    "print(lst1)\n",
    "print(lst2)"
   ]
  },
  {
   "cell_type": "code",
   "execution_count": 42,
   "metadata": {},
   "outputs": [
    {
     "name": "stdout",
     "output_type": "stream",
     "text": [
      "2617854590464\n",
      "2617854590336\n",
      "[1, 2, 3, [1, 2, 300], 4, 5]\n",
      "[1, 2, 3, [1, 2, 300], 4, 5]\n",
      "-------\n",
      "2617854590016\n",
      "2617854590016\n"
     ]
    }
   ],
   "source": [
    "lst1=[1,2,3,[1,2,3],4,5]\n",
    "lst2=lst1.copy()\n",
    "print(id(lst1))\n",
    "print(id(lst2))\n",
    "lst2[3][2]=300\n",
    "print(lst1)\n",
    "print(lst2)\n",
    "print('-------')\n",
    "print(id(lst1[3]))\n",
    "print(id(lst2[3]))"
   ]
  },
  {
   "cell_type": "markdown",
   "metadata": {},
   "source": [
    "## Deep copy"
   ]
  },
  {
   "cell_type": "code",
   "execution_count": 44,
   "metadata": {},
   "outputs": [
    {
     "name": "stdout",
     "output_type": "stream",
     "text": [
      "2617854589568\n",
      "2617853755968\n",
      "[1, 2, 3, [1, 2, 3], 4, 5]\n",
      "[1, 2, 3, [1, 2, 300], 4, 5]\n",
      "-------\n",
      "2617854550592\n",
      "2617853756608\n"
     ]
    }
   ],
   "source": [
    "from copy import deepcopy\n",
    "lst1=[1,2,3,[1,2,3],4,5]\n",
    "lst2=deepcopy(lst1)\n",
    "print(id(lst1))\n",
    "print(id(lst2))\n",
    "lst2[3][2]=300\n",
    "print(lst1)\n",
    "print(lst2)\n",
    "print('-------')\n",
    "print(id(lst1[3]))\n",
    "print(id(lst2[3]))\n",
    "\n"
   ]
  },
  {
   "cell_type": "markdown",
   "metadata": {},
   "source": [
    "## range() : It gives a range of values   \n",
    "## It is a datatype\n"
   ]
  },
  {
   "cell_type": "code",
   "execution_count": 47,
   "metadata": {},
   "outputs": [
    {
     "name": "stdout",
     "output_type": "stream",
     "text": [
      "range(0, 5)\n",
      "<class 'range'>\n"
     ]
    }
   ],
   "source": [
    "print(range(5))                #  0 1 2 3 4 \n",
    "print(type(range(5)))          # Last one is exclusive"
   ]
  },
  {
   "cell_type": "code",
   "execution_count": 48,
   "metadata": {},
   "outputs": [
    {
     "name": "stdout",
     "output_type": "stream",
     "text": [
      "range(2, 6)\n"
     ]
    }
   ],
   "source": [
    "print(range(2,6))             # 2 3 4 5 "
   ]
  },
  {
   "cell_type": "code",
   "execution_count": 51,
   "metadata": {},
   "outputs": [
    {
     "name": "stdout",
     "output_type": "stream",
     "text": [
      "range(20, 60, 2)\n"
     ]
    }
   ],
   "source": [
    "print(range(20,60,2))         # 20 22 24 26....58"
   ]
  },
  {
   "cell_type": "markdown",
   "metadata": {},
   "source": [
    "# for loops"
   ]
  },
  {
   "cell_type": "code",
   "execution_count": 59,
   "metadata": {},
   "outputs": [
    {
     "name": "stdout",
     "output_type": "stream",
     "text": [
      "Hi\n",
      "World\n",
      "Hi\n",
      "World\n",
      "Hi\n",
      "World\n",
      "Hi\n",
      "World\n",
      "Hi\n",
      "World\n"
     ]
    }
   ],
   "source": [
    "for i in range(5):                 # SYNTAX\n",
    "    print('Hi')                    \n",
    "    print('World')                 # for <var> in <iterables> :  \n",
    "                                   #      body                               indentation = 1tab = 4 spaces\n",
    "                                   #      body                       strings,lists,tuples,sets,range are iterables"
   ]
  },
  {
   "cell_type": "code",
   "execution_count": 61,
   "metadata": {},
   "outputs": [
    {
     "name": "stdout",
     "output_type": "stream",
     "text": [
      "0\n",
      "1\n",
      "2\n",
      "3\n",
      "4\n"
     ]
    }
   ],
   "source": [
    "for i in range(5):\n",
    "    print(i)"
   ]
  },
  {
   "cell_type": "code",
   "execution_count": 62,
   "metadata": {},
   "outputs": [
    {
     "name": "stdout",
     "output_type": "stream",
     "text": [
      "A\n",
      "s\n",
      "h\n",
      "i\n",
      "s\n",
      "h\n"
     ]
    }
   ],
   "source": [
    "a='Ashish'\n",
    "for i in a:\n",
    "    print(i)"
   ]
  },
  {
   "cell_type": "code",
   "execution_count": 63,
   "metadata": {},
   "outputs": [
    {
     "name": "stdout",
     "output_type": "stream",
     "text": [
      "1\n",
      "4\n",
      "2\n",
      "5\n",
      "3\n"
     ]
    }
   ],
   "source": [
    "a=[1,4,2,5,3]\n",
    "for i in a:\n",
    "    print(i)"
   ]
  },
  {
   "cell_type": "code",
   "execution_count": 64,
   "metadata": {},
   "outputs": [
    {
     "name": "stdout",
     "output_type": "stream",
     "text": [
      "1\n",
      "4\n",
      "2\n",
      "5\n",
      "3\n"
     ]
    }
   ],
   "source": [
    "a=(1,4,2,5,3)\n",
    "for i in a:\n",
    "    print(i)"
   ]
  },
  {
   "cell_type": "code",
   "execution_count": 65,
   "metadata": {},
   "outputs": [
    {
     "name": "stdout",
     "output_type": "stream",
     "text": [
      "1\n",
      "2\n",
      "3\n",
      "4\n",
      "5\n"
     ]
    }
   ],
   "source": [
    "a={1,4,2,5,3}\n",
    "for i in a:\n",
    "    print(i)"
   ]
  },
  {
   "cell_type": "code",
   "execution_count": 66,
   "metadata": {},
   "outputs": [
    {
     "name": "stdout",
     "output_type": "stream",
     "text": [
      "1\n",
      "16\n",
      "4\n",
      "25\n",
      "9\n"
     ]
    }
   ],
   "source": [
    "a=[1,4,2,5,3]             # To print squares of all elements\n",
    "for i in a:\n",
    "    print(i**2)"
   ]
  },
  {
   "cell_type": "code",
   "execution_count": 74,
   "metadata": {},
   "outputs": [
    {
     "name": "stdout",
     "output_type": "stream",
     "text": [
      "hsihsA\n",
      "ahirakiT\n",
      "tnakinaM\n"
     ]
    }
   ],
   "source": [
    "a=['Ashish','Tikariha','Manikant']      # To reverse all elements of list\n",
    "for i in a :\n",
    "    print(i[::-1])"
   ]
  },
  {
   "cell_type": "markdown",
   "metadata": {},
   "source": [
    "### A good code is one which can work on any kind of input, not hardcoded for specific inputs   \n",
    "### Hardcoded codes dont serve the purpose of coding and straightaway rejected in interviews"
   ]
  },
  {
   "cell_type": "code",
   "execution_count": 1,
   "metadata": {},
   "outputs": [
    {
     "name": "stdout",
     "output_type": "stream",
     "text": [
      "Enter the list contaning only integers[1,2,3,4,5,10]\n",
      "[1, 8, 27, 64, 125, 1000]\n"
     ]
    }
   ],
   "source": [
    "# write a code which takes a list of integers as input and prints a list contaning cubes of each element\n",
    "\n",
    "user_input=eval(input('Enter the list contaning only integers'))\n",
    "b=[]\n",
    "for i in user_input:\n",
    "    b.append(i**3)\n",
    "print(b)"
   ]
  },
  {
   "cell_type": "code",
   "execution_count": 85,
   "metadata": {},
   "outputs": [
    {
     "name": "stdout",
     "output_type": "stream",
     "text": [
      "Enter the stringHardcoded codes doesnt serve the purpose of coding\n",
      "dedocdraH sedoc tnseod evres eht esoprup fo gnidoc "
     ]
    }
   ],
   "source": [
    "# write a code which takes a string containing multiple words as input and prints a string with each words reversed\n",
    "\n",
    "a=input('Enter the string')\n",
    "b=a.split()\n",
    "for i in b:\n",
    "    print(i[::-1],end=' ')\n",
    "\n",
    "# This is a general code and can be used for any type of input"
   ]
  },
  {
   "cell_type": "code",
   "execution_count": 92,
   "metadata": {},
   "outputs": [
    {
     "name": "stdout",
     "output_type": "stream",
     "text": [
      "hsihsA ahirakiT\n"
     ]
    }
   ],
   "source": [
    "# write a code which takes a string containing multiple words as input and prints a string with each words reversed\n",
    "\n",
    "\n",
    "a='Ashish Tikariha'\n",
    "b=a.split()\n",
    "c=[]\n",
    "for i in b:\n",
    "    rev=i[::-1]\n",
    "    c.append(rev)\n",
    "ans=c[0]+' '+c[1]\n",
    "print(ans)\n",
    "    \n",
    "    \n",
    "# This is hardcoded, wont work when string a contains more than two words"
   ]
  },
  {
   "cell_type": "code",
   "execution_count": 95,
   "metadata": {},
   "outputs": [
    {
     "name": "stdout",
     "output_type": "stream",
     "text": [
      "hsihsA ahirakiT ramuK zzYYXX\n"
     ]
    }
   ],
   "source": [
    "# write a code which takes a string containing multiple words as input and prints a string with each words reversed\n",
    "\n",
    "\n",
    "a='Ashish Tikariha Kumar XXYYzz'\n",
    "b=a.split()\n",
    "c=[]\n",
    "for i in b:\n",
    "    rev=i[::-1]\n",
    "    c.append(rev)\n",
    "ans=' '.join(c)\n",
    "print(ans)\n",
    "\n",
    "# This is a general code and can be used for any type of input"
   ]
  },
  {
   "cell_type": "markdown",
   "metadata": {},
   "source": [
    "## List comprehension : It allows quick constructon of list.   \n",
    "## It uses for loop inside its syntax with a bit changed syntax"
   ]
  },
  {
   "cell_type": "code",
   "execution_count": 100,
   "metadata": {},
   "outputs": [
    {
     "name": "stdout",
     "output_type": "stream",
     "text": [
      "[0, 1, 4, 9, 16, 25]\n"
     ]
    }
   ],
   "source": [
    "a=[i**2 for i in range(6)]             #[<exp> for <var> in <iterable>]\n",
    "print(a)"
   ]
  },
  {
   "cell_type": "code",
   "execution_count": 101,
   "metadata": {},
   "outputs": [
    {
     "name": "stdout",
     "output_type": "stream",
     "text": [
      "['A', 's', 'h', 'i', 's', 'h']\n"
     ]
    }
   ],
   "source": [
    "a='Ashish'\n",
    "b=[i for i in a]             # [<body> for <var> in <iterable>]\n",
    "print(b)"
   ]
  },
  {
   "cell_type": "code",
   "execution_count": 102,
   "metadata": {},
   "outputs": [
    {
     "name": "stdout",
     "output_type": "stream",
     "text": [
      "['a', 'k', 'f', 'b', 'm']\n"
     ]
    }
   ],
   "source": [
    "a='afsan khan football barcelona messi'       # To print first letter of each word inside a list\n",
    "b=a.split()\n",
    "c=[i[0] for i in b]\n",
    "print(c)\n"
   ]
  },
  {
   "cell_type": "code",
   "execution_count": null,
   "metadata": {},
   "outputs": [],
   "source": []
  }
 ],
 "metadata": {
  "kernelspec": {
   "display_name": "Python 3",
   "language": "python",
   "name": "python3"
  },
  "language_info": {
   "codemirror_mode": {
    "name": "ipython",
    "version": 3
   },
   "file_extension": ".py",
   "mimetype": "text/x-python",
   "name": "python",
   "nbconvert_exporter": "python",
   "pygments_lexer": "ipython3",
   "version": "3.8.5"
  }
 },
 "nbformat": 4,
 "nbformat_minor": 4
}
